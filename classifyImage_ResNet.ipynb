{
 "cells": [
  {
   "cell_type": "code",
   "execution_count": 1,
   "metadata": {},
   "outputs": [],
   "source": [
    "from keras.applications import ResNet50\n",
    "from keras.applications import InceptionV3\n",
    "from keras.applications import Xception\n",
    "from keras.applications import VGG16\n",
    "from keras.applications import VGG19\n",
    "from keras.applications import imagenet_utils\n",
    "from keras.applications.inception_v3 import preprocess_input\n",
    "from keras.preprocessing.image import img_to_array\n",
    "from keras.preprocessing.image import load_img\n",
    "import numpy as np\n",
    "import argparse\n",
    "import cv2"
   ]
  },
  {
   "cell_type": "code",
   "execution_count": 11,
   "metadata": {},
   "outputs": [
    {
     "name": "stdout",
     "output_type": "stream",
     "text": [
      "[INFO] loading resnet...\n",
      "[INFO] loading and pre-processing image...\n",
      "[INFO] classifying an image with 'resnet'...\n",
      "[[('n02389026', 'sorrel', 0.95547813), ('n02422106', 'hartebeest', 0.025755381), ('n04604644', 'worm_fence', 0.003268464), ('n02107142', 'Doberman', 0.0028380204), ('n03538406', 'horse_cart', 0.002359943)]]\n",
      "1. sorrel: 95.55%\n",
      "2. hartebeest: 2.58%\n",
      "3. worm_fence: 0.33%\n",
      "4. Doberman: 0.28%\n",
      "5. horse_cart: 0.24%\n"
     ]
    },
    {
     "data": {
      "text/plain": [
       "-1"
      ]
     },
     "execution_count": 11,
     "metadata": {},
     "output_type": "execute_result"
    }
   ],
   "source": [
    "inputShape = (224, 224)\n",
    "preprocess = imagenet_utils.preprocess_input\n",
    "\n",
    "print(\"[INFO] loading {}...\".format(\"resnet\"))\n",
    "Network = ResNet50\n",
    "model = Network(weights=\"imagenet\")\n",
    "\n",
    "print(\"[INFO] loading and pre-processing image...\")\n",
    "path=\"resources/test_image6.jpg\"\n",
    "image = load_img(path, target_size=inputShape)\n",
    "image = img_to_array(image)\n",
    "\n",
    "# Image is now represented as a Numpy array of shape (1, inputShape[0], inputShape[1], 3)\n",
    "image = np.expand_dims(image, axis=0)\n",
    "image = preprocess(image)\n",
    "\n",
    "print(\"[INFO] classifying an image with '{}'...\".format(\"resnet\"))\n",
    "preds = model.predict(image)\n",
    "P = imagenet_utils.decode_predictions(preds)\n",
    "print(P)\n",
    "# Loop over the predictions and display the rank-5 predictions + probabilities to our terminal\n",
    "for(i, (imagenetID, label, prob)) in enumerate(P[0]):\n",
    "    print(\"{}. {}: {:.2f}%\".format(i+1, label, prob*100)) \n",
    "\n",
    "# Load the image via OpenCV, draw the top prediction on the image, and diplsy the image to our screen\n",
    "orig = cv2.imread(path)\n",
    "(imageNetId, label, prob) = P[0][0]\n",
    "cv2.putText(orig, \"Label : {}\".format(label), (10,30), cv2.FONT_HERSHEY_SIMPLEX, 0.5, (0, 0, 255), 2)\n",
    "cv2.imshow(\"Classification\", orig)\n",
    "cv2.waitKey(0)"
   ]
  },
  {
   "cell_type": "code",
   "execution_count": null,
   "metadata": {},
   "outputs": [],
   "source": []
  }
 ],
 "metadata": {
  "kernelspec": {
   "display_name": "Python 3",
   "language": "python",
   "name": "python3"
  },
  "language_info": {
   "codemirror_mode": {
    "name": "ipython",
    "version": 3
   },
   "file_extension": ".py",
   "mimetype": "text/x-python",
   "name": "python",
   "nbconvert_exporter": "python",
   "pygments_lexer": "ipython3",
   "version": "3.8.1"
  }
 },
 "nbformat": 4,
 "nbformat_minor": 4
}
